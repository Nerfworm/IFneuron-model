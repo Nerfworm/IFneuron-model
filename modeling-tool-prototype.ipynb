{
 "cells": [
  {
   "cell_type": "markdown",
   "id": "dcb66547",
   "metadata": {},
   "source": [
    "# Modeling Tool Prototype\n",
    "\n",
    "Basic tool for building models using the `IFneuron` class."
   ]
  },
  {
   "cell_type": "markdown",
   "id": "812fd0b7",
   "metadata": {},
   "source": [
    "### Imports"
   ]
  },
  {
   "cell_type": "code",
   "execution_count": 1,
   "id": "ce91eb74",
   "metadata": {},
   "outputs": [],
   "source": [
    "import numpy as np\n",
    "import matplotlib.pyplot as plt\n",
    "from IFneuron import *"
   ]
  },
  {
   "cell_type": "markdown",
   "id": "56add2bc",
   "metadata": {},
   "source": [
    "### NeuronNetwork Class\n",
    "\n",
    "This class is used to create networks of `IFneuron` objects.\n",
    "\n",
    "**Some notes to be aware of when using:**\n",
    "- There is very little input validation, especially for adding connections. So be careful with `neuron_id` arguments\n",
    "- You sort of have to run everything in the proper order. Start with adding neurons -> add connections -> set the stimulation times -> run the simulation -> collect the data."
   ]
  },
  {
   "cell_type": "code",
   "execution_count": null,
   "id": "718a211e",
   "metadata": {},
   "outputs": [],
   "source": [
    "class NeuronNetwork:\n",
    "    '''\n",
    "    Data structure for storing networks of IFneurons.\n",
    "    '''\n",
    "    def __init__(self, id:'str'):\n",
    "        self.id = id\n",
    "        self.all_neurons = {}\n",
    "\n",
    "    def add_neuron(self, neuron_id:str):\n",
    "        neuron = IFneuron(neuron_id)\n",
    "        if neuron in self.all_neurons:\n",
    "            print(f'Neuron: {neuron.id} already exists. Use a different id.')\n",
    "            return\n",
    "        self.all_neurons[neuron_id] = neuron\n",
    "    \n",
    "    def add_neuron_connection(self, presynaptic_neuron_id:str, postsynaptic_neuron_id:str, weight:float):\n",
    "        '''\n",
    "        presynaptic -> postsynaptic.\n",
    "        presynaptic_neuron_id is the 'sending' neuron.\n",
    "        postsynaptic_neuron_id is the 'receiving' neuron.\n",
    "        '''\n",
    "        connection = (self.all_neurons[presynaptic_neuron_id], weight)\n",
    "        self.all_neurons[postsynaptic_neuron_id].receptors.append(connection)\n",
    "        # print(f'Connection formed: {presynaptic_neuron_id} -> {postsynaptic_neuron_id}')  # If you want to see whats happening\n",
    "\n",
    "    def set_direct_stimulation_time_ms(self, neuron_id:str, stimulation_time_ms:list):\n",
    "        self.all_neurons[neuron_id].t_directstim_ms = stimulation_time_ms\n",
    "        # print(f'Set neuron: {neuron_id} stim times(ms) to: {self.all_neurons[neuron_id].t_directstim_ms}')\n",
    "\n",
    "    def run_simulation(self, run_time_ms:float, record_membrane_potential:bool):\n",
    "        for step in range(run_time_ms):\n",
    "            for i in self.all_neurons.values():\n",
    "                i.update(step, record_membrane_potential)\n",
    "\n",
    "    def get_neuron_spike_times_ms(self, neuron_id:str) -> list:\n",
    "        '''\n",
    "        Returns individual neuron spike times(ms) as a list.\n",
    "        '''\n",
    "        return self.all_neurons[neuron_id].t_act_ms\n",
    "    \n",
    "    def get_neuron_membrane_potentials(self, neuron_id:str) -> list:\n",
    "        '''\n",
    "        Returns individual neuron membrane potentials as a list.\n",
    "        '''\n",
    "        return self.all_neurons[neuron_id].Vm_recorded\n",
    "    \n",
    "    def get_neuron_run_time_ms(self, neuron_id:str) -> list:\n",
    "        '''\n",
    "        Returns individual neuron run time(ms) as a list.\n",
    "        This can be used to get the run time(ms) of the system.\n",
    "        '''\n",
    "        return self.all_neurons[neuron_id].t_recorded_ms\n",
    "\n",
    "    def get_all_neurons(self) -> dict:\n",
    "        '''\n",
    "        Returns dictionary of all neurons in the system.\n",
    "        Key: neuron_id,\n",
    "        Value: IFneuron object\n",
    "        '''\n",
    "        return self.all_neurons\n",
    "    \n",
    "    def plot_membrane_potential_over_time(self, neuron_ids:list):\n",
    "        '''\n",
    "        neuron_ids is a list of ids.\n",
    "        The ids can be pulled from get_all_neurons().\n",
    "        '''\n",
    "        fig, ax = plt.subplots(len(neuron_ids), figsize=(10, len(neuron_ids)*3), sharex=True, sharey=True)\n",
    "        fig.suptitle('Membrane potential (mV) over Time (ms)')\n",
    "        fig.supxlabel('Time (ms)')\n",
    "        fig.supylabel('Membrane Potential (mV)')\n",
    "\n",
    "\n",
    "    def print_all_neurons(self):\n",
    "        print(self.all_neurons)"
   ]
  },
  {
   "cell_type": "markdown",
   "id": "081f06f2",
   "metadata": {},
   "source": [
    "### Helper Functions"
   ]
  },
  {
   "cell_type": "markdown",
   "id": "ff92deb5",
   "metadata": {},
   "source": [
    "## Making a model\n",
    "\n",
    "This example will use the original diagram, to keep things simple for now.\n",
    "\n",
    "The diagram can be found here: https://docs.google.com/drawings/d/1Ff46J6rN11y0qpxOj1pYI5ceD3pyPDgKLzcZ0Jx5_uQ/edit?usp=sharing"
   ]
  },
  {
   "cell_type": "markdown",
   "id": "2d9b167b",
   "metadata": {},
   "source": [
    "### Creating the Ground Truth system\n",
    "\n",
    "I chose to hold off on making a `generate_neurons` function for now so that we can better see what neurons are part of a system. This should be added later though, if we want to make example networks with random connections."
   ]
  },
  {
   "cell_type": "code",
   "execution_count": null,
   "id": "b69f8602",
   "metadata": {},
   "outputs": [],
   "source": [
    "ground_truth_system = NeuronNetwork('Ground Truth sim')\n",
    "\n",
    "ground_truth_system.add_neuron('Neuron_A')  # input neuron\n",
    "ground_truth_system.add_neuron('Neuron_B')  # input neuron\n",
    "ground_truth_system.add_neuron('Neuron_C')\n",
    "ground_truth_system.add_neuron('Neuron_D')\n",
    "ground_truth_system.add_neuron('Neuron_E')\n",
    "# ground_truth_system.print_all_neurons()\n",
    "\n",
    "ground_truth_system.add_neuron_connection('Neuron_A', 'Neuron_C', .7)    # Neuron_A -> Neuron_C\n",
    "ground_truth_system.add_neuron_connection('Neuron_B', 'Neuron_C', .7)    # Neuron_B -> Neuron_C\n",
    "\n",
    "ground_truth_system.add_neuron_connection('Neuron_A', 'Neuron_D', 1.0)   # Neuron_A -> Neuron_D\n",
    "ground_truth_system.add_neuron_connection('Neuron_B', 'Neuron_D', 1.0)   # Neuron_B -> Neuron_D\n",
    "\n",
    "ground_truth_system.add_neuron_connection('Neuron_D', 'Neuron_E', 1.0)   # Neuron_D -> Neuron_E\n",
    "ground_truth_system.add_neuron_connection('Neuron_C', 'Neuron_E', -1.0)  # Neuron_C -> Neuron_E\n",
    "\n",
    "stim_time_ms_a = [25, 350, 700, 1000, 1400, 2000]\n",
    "ground_truth_system.set_direct_stimulation_time_ms('Neuron_A', stim_time_ms_a)\n",
    "\n",
    "stim_time_ms_b = [20, 450, 700, 1000, 1300, 2200]\n",
    "ground_truth_system.set_direct_stimulation_time_ms('Neuron_B', stim_time_ms_b)\n",
    "\n",
    "simulation_run_time_ms = 3500\n",
    "ground_truth_system.run_simulation(simulation_run_time_ms, True)"
   ]
  },
  {
   "cell_type": "markdown",
   "id": "bfd54444",
   "metadata": {},
   "source": [
    "## Demonstration of getters"
   ]
  },
  {
   "cell_type": "markdown",
   "id": "aa088597",
   "metadata": {},
   "source": [
    "`get_all_neurons`:"
   ]
  },
  {
   "cell_type": "code",
   "execution_count": 4,
   "id": "3835605d",
   "metadata": {},
   "outputs": [
    {
     "name": "stdout",
     "output_type": "stream",
     "text": [
      "index: 0  |  neuron_id: Neuron_A  |  neuron: <IFneuron.IFneuron object at 0x000001B3B6E10050>\n",
      "index: 1  |  neuron_id: Neuron_B  |  neuron: <IFneuron.IFneuron object at 0x000001B3F67C2D50>\n",
      "index: 2  |  neuron_id: Neuron_C  |  neuron: <IFneuron.IFneuron object at 0x000001B3B5D6DF90>\n",
      "index: 3  |  neuron_id: Neuron_D  |  neuron: <IFneuron.IFneuron object at 0x000001B3F69DC050>\n",
      "index: 4  |  neuron_id: Neuron_E  |  neuron: <IFneuron.IFneuron object at 0x000001B3B6E00050>\n"
     ]
    }
   ],
   "source": [
    "all_neurons = ground_truth_system.get_all_neurons()\n",
    "for index, neuron_id in enumerate(all_neurons):\n",
    "    print(f'index: {index}  |  neuron_id: {neuron_id}  |  neuron: {all_neurons[neuron_id]}')"
   ]
  },
  {
   "cell_type": "markdown",
   "id": "294dc030",
   "metadata": {},
   "source": [
    "---\n",
    "`get_neuron_spike_times_ms`:"
   ]
  },
  {
   "cell_type": "code",
   "execution_count": 5,
   "id": "e5dba3ab",
   "metadata": {},
   "outputs": [
    {
     "name": "stdout",
     "output_type": "stream",
     "text": [
      "Neuron A spike times: [25, 350, 700, 1000, 1400, 2000]\n",
      "Neuron B spike times: [20, 450, 700, 1000, 1300, 2200]\n",
      "Neuron C spike times: [27, 704, 1004]\n",
      "Neuron D spike times: [26, 357, 458, 702, 1002, 1307, 1408, 2007, 2207]\n",
      "Neuron E spike times: [364, 467, 1314, 1417, 2014, 2214]\n"
     ]
    }
   ],
   "source": [
    "neuron_A_spike_times = ground_truth_system.get_neuron_spike_times_ms('Neuron_A')\n",
    "print(f'Neuron A spike times: {neuron_A_spike_times}')\n",
    "\n",
    "neuron_B_spike_times = ground_truth_system.get_neuron_spike_times_ms('Neuron_B')\n",
    "print(f'Neuron B spike times: {neuron_B_spike_times}')\n",
    "\n",
    "neuron_C_spike_times = ground_truth_system.get_neuron_spike_times_ms('Neuron_C')\n",
    "print(f'Neuron C spike times: {neuron_C_spike_times}')\n",
    "\n",
    "neuron_D_spike_times = ground_truth_system.get_neuron_spike_times_ms('Neuron_D')\n",
    "print(f'Neuron D spike times: {neuron_D_spike_times}')\n",
    "\n",
    "neuron_E_spike_times = ground_truth_system.get_neuron_spike_times_ms('Neuron_E')\n",
    "print(f'Neuron E spike times: {neuron_E_spike_times}')"
   ]
  },
  {
   "cell_type": "markdown",
   "id": "e70bddc3",
   "metadata": {},
   "source": [
    "---\n",
    "`get_neuron_membrane_potentials`:"
   ]
  },
  {
   "cell_type": "code",
   "execution_count": 6,
   "id": "59823b0b",
   "metadata": {},
   "outputs": [
    {
     "name": "stdout",
     "output_type": "stream",
     "text": [
      "Neuron A membrane_potentials: [-60.0, -60.0, -60.0, -60.0, -60.0, -60.0, -60.0, -60.0, -60.0, -60.0]...\n",
      "Neuron B membrane_potentials: [-60.0, -60.0, -60.0, -60.0, -60.0, -60.0, -60.0, -60.0, -60.0, -60.0]...\n",
      "Neuron C membrane_potentials: [-60.0, -60.0, -60.0, -60.0, -60.0, -60.0, -60.0, -60.0, -60.0, -60.0]...\n",
      "Neuron D membrane_potentials: [-60.0, -60.0, -60.0, -60.0, -60.0, -60.0, -60.0, -60.0, -60.0, -60.0]...\n",
      "Neuron E membrane_potentials: [-60.0, -60.0, -60.0, -60.0, -60.0, -60.0, -60.0, -60.0, -60.0, -60.0]...\n"
     ]
    }
   ],
   "source": [
    "neuron_A_membrane_potentials = ground_truth_system.get_neuron_membrane_potentials('Neuron_A')\n",
    "print(f'Neuron A membrane_potentials: {neuron_A_membrane_potentials[:10]}...')\n",
    "\n",
    "neuron_B_membrane_potentials = ground_truth_system.get_neuron_membrane_potentials('Neuron_B')\n",
    "print(f'Neuron B membrane_potentials: {neuron_B_membrane_potentials[:10]}...')\n",
    "\n",
    "neuron_C_membrane_potentials = ground_truth_system.get_neuron_membrane_potentials('Neuron_C')\n",
    "print(f'Neuron C membrane_potentials: {neuron_C_membrane_potentials[:10]}...')\n",
    "\n",
    "neuron_D_membrane_potentials = ground_truth_system.get_neuron_membrane_potentials('Neuron_D')\n",
    "print(f'Neuron D membrane_potentials: {neuron_D_membrane_potentials[:10]}...')\n",
    "\n",
    "neuron_E_membrane_potentials = ground_truth_system.get_neuron_membrane_potentials('Neuron_E')\n",
    "print(f'Neuron E membrane_potentials: {neuron_E_membrane_potentials[:10]}...')"
   ]
  },
  {
   "cell_type": "markdown",
   "id": "8a026f7b",
   "metadata": {},
   "source": [
    "---\n",
    "`get_neuron_run_time_ms`:"
   ]
  },
  {
   "cell_type": "code",
   "execution_count": 7,
   "id": "051d85a2",
   "metadata": {},
   "outputs": [
    {
     "name": "stdout",
     "output_type": "stream",
     "text": [
      "Neuron A spike times: [0, 1, 2, 3, 4, 5, 6, 7, 8, 9]...\n",
      "Neuron B spike times: [0, 1, 2, 3, 4, 5, 6, 7, 8, 9]...\n",
      "Neuron C spike times: [0, 1, 2, 3, 4, 5, 6, 7, 8, 9]...\n",
      "Neuron D spike times: [0, 1, 2, 3, 4, 5, 6, 7, 8, 9]...\n",
      "Neuron E spike times: [0, 1, 2, 3, 4, 5, 6, 7, 8, 9]...\n"
     ]
    }
   ],
   "source": [
    "neuron_A_run_time = ground_truth_system.get_neuron_run_time_ms('Neuron_A')\n",
    "print(f'Neuron A spike times: {neuron_A_run_time[:10]}...')\n",
    "\n",
    "neuron_B_run_time = ground_truth_system.get_neuron_run_time_ms('Neuron_B')\n",
    "print(f'Neuron B spike times: {neuron_B_run_time[:10]}...')\n",
    "\n",
    "neuron_C_run_time = ground_truth_system.get_neuron_run_time_ms('Neuron_C')\n",
    "print(f'Neuron C spike times: {neuron_C_run_time[:10]}...')\n",
    "\n",
    "neuron_D_run_time = ground_truth_system.get_neuron_run_time_ms('Neuron_D')\n",
    "print(f'Neuron D spike times: {neuron_D_run_time[:10]}...')\n",
    "\n",
    "neuron_E_run_time = ground_truth_system.get_neuron_run_time_ms('Neuron_E')\n",
    "print(f'Neuron E spike times: {neuron_E_run_time[:10]}...')"
   ]
  },
  {
   "cell_type": "markdown",
   "id": "565c9ad6",
   "metadata": {},
   "source": []
  }
 ],
 "metadata": {
  "kernelspec": {
   "display_name": "venv",
   "language": "python",
   "name": "python3"
  },
  "language_info": {
   "codemirror_mode": {
    "name": "ipython",
    "version": 3
   },
   "file_extension": ".py",
   "mimetype": "text/x-python",
   "name": "python",
   "nbconvert_exporter": "python",
   "pygments_lexer": "ipython3",
   "version": "3.13.1"
  }
 },
 "nbformat": 4,
 "nbformat_minor": 5
}
